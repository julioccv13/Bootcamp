{
  "nbformat": 4,
  "nbformat_minor": 0,
  "metadata": {
    "colab": {
      "name": "Code_Challenge_Student.ipynb",
      "provenance": [],
      "collapsed_sections": [],
      "include_colab_link": true
    },
    "kernelspec": {
      "name": "python3",
      "display_name": "Python 3"
    },
    "language_info": {
      "name": "python"
    }
  },
  "cells": [
    {
      "cell_type": "markdown",
      "metadata": {
        "id": "view-in-github",
        "colab_type": "text"
      },
      "source": [
        "<a href=\"https://colab.research.google.com/github/julioccv13/Data-Engineering-Bootcamp/blob/main/Code_Challenge_Student.ipynb\" target=\"_parent\"><img src=\"https://colab.research.google.com/assets/colab-badge.svg\" alt=\"Open In Colab\"/></a>"
      ]
    },
    {
      "cell_type": "markdown",
      "source": [
        "#Data Bootcamp Selection Challenge\n",
        "#####In this challenge you will calculate various KPIs using a car based dataset, each question will have a single correct answer that will be evaluated through automated unit testing. Use the dictionary provided below to fill in your answers, each question will state the format required for the answer and examples are provided so you know how properly fill the answer dictionary. \n",
        "#####**Use the dataset \"as is\" and do not perform any data cleaning or modify it in any way, doing so could make you answer all your questions incorrectly. Do not modify the structure of the answer dictionary.**\n",
        "\n",
        "#####When you finish this challenge please upload both your notebook and your answer dictionary in pickle format to a public github repository submit their URL to the [google form](https://forms.gle/wWysZEMkoZsjB11Y7) that was provided to you.\n",
        "\n",
        "##### Some unit tests are provided at the end of this notebook to help you verify your answers are in the correct format, however they will not test everything.\n",
        "\n",
        "\n",
        "\n"
      ],
      "metadata": {
        "id": "Ab6tQ8XLwqzG"
      }
    },
    {
      "cell_type": "code",
      "execution_count": 211,
      "metadata": {
        "id": "1kj3oTmRvWXi"
      },
      "outputs": [],
      "source": [
        "#Use this dictionary to store your answers in the correct format in the cells below , do not modify the keys\n",
        "answer_dict =  {\"Q1\" : 392.74172108576107,\n",
        "                \"Q2\" : [[\"Chevrolet\",3643], [\"Ford\",2946], [\"Dodge\",2360], [\"GMC\",2347], [\"Toyota\",1836]] ,\n",
        "                \"Q3\" : ['Regular', 'Premium', 'Diesel', 'Premium and Electricity', 'Premium or E85', 'Premium Gas or Electricity', 'Gasoline or E85', 'Gasoline or natural gas', 'CNG', 'Regular Gas or Electricity', 'Midgrade', 'Regular Gas and Electricity', 'Gasoline or propane'],\n",
        "                \"Q4\" : [['Cab/Chassis 2WD', 1992, 32.961],\n",
        " ['Cab/Chassis 2WD', 1989, 32.961],\n",
        " ['Cab/Chassis 2WD', 1993, 32.961],\n",
        " ['Cab/Chassis 2WD', 1990, 32.961],\n",
        " ['Cab/Chassis 2WD', 1991, 32.961],\n",
        " ['Land Cruiser Wagon 4WD', 1984, 29.96454545454546],\n",
        " ['Land Cruiser Wagon 4WD', 1985, 29.96454545454546],\n",
        " ['Land Cruiser Wagon 4WD', 1986, 29.96454545454546],\n",
        " ['Land Cruiser Wagon 4WD', 1987, 29.96454545454546]],\n",
        "                \"Q5\" : [[1986, 26, 0.0],\n",
        " [1987, 26, 1.0],\n",
        " [1988, 25, 4.0],\n",
        " [1989, 25, 0.0],\n",
        " [1999, 24, 0.0],\n",
        " [2000, 24, -1.0],\n",
        " [2001, 24, 1.0],\n",
        " [2002, 24, 0.0],\n",
        " [2003, 24, 0.0],\n",
        " [2004, 24, 0.0],\n",
        " [2005, 24, 1.0],\n",
        " [2006, 24, 1.0],\n",
        " [2010, 25, 2.0],\n",
        " [2011, 26, 2.0],\n",
        " [2012, 26, 2.0],\n",
        " [2013, 26, 3.0],\n",
        " [2015, 30, 2.0],\n",
        " [2016, 30, 4.0],\n",
        " [2017, 29, 4.0]],\n",
        "                \"Q6\" : [['Toyota', 112.0, 129.0, 129.0, 129.0, 129.0],\n",
        " ['Ford',\n",
        "  130.0,\n",
        "  167.67924528301887,\n",
        "  167.67924528301887,\n",
        "  167.67924528301887,\n",
        "  167.67924528301887],\n",
        " ['Volkswagen', 249.0, 254.0, 254.5, 254.5, 254.5],\n",
        " ['Nissan', 133.0, 133.0, 133.0, 133.0, 158.0],\n",
        " ['Honda', 200.0, 200.0, 200.0, 200.0, 261.025641025641]],\n",
        "                \"Q7\" : [[(1984, 1998), 18.96],\n",
        " [(1999, 2002), 18.98],\n",
        " [(2003, 2014), 19.24],\n",
        " [(2015, 1988), 19.18],\n",
        " [(1989, 1993), 19.08],\n",
        " [(1994, 2008), 20.999999999999996],\n",
        " [(2009, 2013), 23.049999999999997]]}"
      ]
    },
    {
      "cell_type": "markdown",
      "source": [
        "##Reading the dataset\n",
        "#####An example is provided to read the dataset using [pandas](https://pandas.pydata.org/), while we reccommend using pandas you may use any python library to solve this challenge. "
      ],
      "metadata": {
        "id": "Z0pZ4Vlx3VZy"
      }
    },
    {
      "cell_type": "code",
      "source": [
        "import pandas as pd\n",
        "import numpy as np\n",
        "url='https://drive.google.com/file/d/1PCJ7ltluquoXKi6MYTPMfwZQNI_-MIFP/view?usp=sharing'\n",
        "url='https://drive.google.com/uc?id=' + url.split('/')[-2]\n",
        "df = pd.read_csv(url)"
      ],
      "metadata": {
        "id": "7U3UNKSj3oxa"
      },
      "execution_count": 212,
      "outputs": []
    },
    {
      "cell_type": "code",
      "source": [
        "df.head()"
      ],
      "metadata": {
        "id": "J10uW58Qv2B_",
        "colab": {
          "base_uri": "https://localhost:8080/",
          "height": 354
        },
        "outputId": "b9674547-2b7e-4f27-8dd6-ed1355dddc4d"
      },
      "execution_count": 213,
      "outputs": [
        {
          "output_type": "execute_result",
          "data": {
            "text/plain": [
              "               Make                Model  Year  Engine Displacement  \\\n",
              "0        AM General    DJ Po Vehicle 2WD  1984                  2.5   \n",
              "1        AM General     FJ8c Post Office  1984                  4.2   \n",
              "2        AM General  Post Office DJ5 2WD  1985                  2.5   \n",
              "3        AM General  Post Office DJ8 2WD  1985                  4.2   \n",
              "4  ASC Incorporated                  GNX  1987                  3.8   \n",
              "\n",
              "   Cylinders     Transmission        Drivetrain                Vehicle Class  \\\n",
              "0        4.0  Automatic 3-spd     2-Wheel Drive  Special Purpose Vehicle 2WD   \n",
              "1        6.0  Automatic 3-spd     2-Wheel Drive  Special Purpose Vehicle 2WD   \n",
              "2        4.0  Automatic 3-spd  Rear-Wheel Drive  Special Purpose Vehicle 2WD   \n",
              "3        6.0  Automatic 3-spd  Rear-Wheel Drive  Special Purpose Vehicle 2WD   \n",
              "4        6.0  Automatic 4-spd  Rear-Wheel Drive                 Midsize Cars   \n",
              "\n",
              "  Fuel Type  Fuel Barrels/Year  City MPG  Highway MPG  Combined MPG  \\\n",
              "0   Regular          19.388824        18           17            17   \n",
              "1   Regular          25.354615        13           13            13   \n",
              "2   Regular          20.600625        16           17            16   \n",
              "3   Regular          25.354615        13           13            13   \n",
              "4   Premium          20.600625        14           21            16   \n",
              "\n",
              "   CO2 Emission Grams/Mile  Fuel Cost/Year  \n",
              "0               522.764706            1950  \n",
              "1               683.615385            2550  \n",
              "2               555.437500            2100  \n",
              "3               683.615385            2550  \n",
              "4               555.437500            2550  "
            ],
            "text/html": [
              "\n",
              "  <div id=\"df-193394eb-2b4a-47ff-bca6-a469f36253ce\">\n",
              "    <div class=\"colab-df-container\">\n",
              "      <div>\n",
              "<style scoped>\n",
              "    .dataframe tbody tr th:only-of-type {\n",
              "        vertical-align: middle;\n",
              "    }\n",
              "\n",
              "    .dataframe tbody tr th {\n",
              "        vertical-align: top;\n",
              "    }\n",
              "\n",
              "    .dataframe thead th {\n",
              "        text-align: right;\n",
              "    }\n",
              "</style>\n",
              "<table border=\"1\" class=\"dataframe\">\n",
              "  <thead>\n",
              "    <tr style=\"text-align: right;\">\n",
              "      <th></th>\n",
              "      <th>Make</th>\n",
              "      <th>Model</th>\n",
              "      <th>Year</th>\n",
              "      <th>Engine Displacement</th>\n",
              "      <th>Cylinders</th>\n",
              "      <th>Transmission</th>\n",
              "      <th>Drivetrain</th>\n",
              "      <th>Vehicle Class</th>\n",
              "      <th>Fuel Type</th>\n",
              "      <th>Fuel Barrels/Year</th>\n",
              "      <th>City MPG</th>\n",
              "      <th>Highway MPG</th>\n",
              "      <th>Combined MPG</th>\n",
              "      <th>CO2 Emission Grams/Mile</th>\n",
              "      <th>Fuel Cost/Year</th>\n",
              "    </tr>\n",
              "  </thead>\n",
              "  <tbody>\n",
              "    <tr>\n",
              "      <th>0</th>\n",
              "      <td>AM General</td>\n",
              "      <td>DJ Po Vehicle 2WD</td>\n",
              "      <td>1984</td>\n",
              "      <td>2.5</td>\n",
              "      <td>4.0</td>\n",
              "      <td>Automatic 3-spd</td>\n",
              "      <td>2-Wheel Drive</td>\n",
              "      <td>Special Purpose Vehicle 2WD</td>\n",
              "      <td>Regular</td>\n",
              "      <td>19.388824</td>\n",
              "      <td>18</td>\n",
              "      <td>17</td>\n",
              "      <td>17</td>\n",
              "      <td>522.764706</td>\n",
              "      <td>1950</td>\n",
              "    </tr>\n",
              "    <tr>\n",
              "      <th>1</th>\n",
              "      <td>AM General</td>\n",
              "      <td>FJ8c Post Office</td>\n",
              "      <td>1984</td>\n",
              "      <td>4.2</td>\n",
              "      <td>6.0</td>\n",
              "      <td>Automatic 3-spd</td>\n",
              "      <td>2-Wheel Drive</td>\n",
              "      <td>Special Purpose Vehicle 2WD</td>\n",
              "      <td>Regular</td>\n",
              "      <td>25.354615</td>\n",
              "      <td>13</td>\n",
              "      <td>13</td>\n",
              "      <td>13</td>\n",
              "      <td>683.615385</td>\n",
              "      <td>2550</td>\n",
              "    </tr>\n",
              "    <tr>\n",
              "      <th>2</th>\n",
              "      <td>AM General</td>\n",
              "      <td>Post Office DJ5 2WD</td>\n",
              "      <td>1985</td>\n",
              "      <td>2.5</td>\n",
              "      <td>4.0</td>\n",
              "      <td>Automatic 3-spd</td>\n",
              "      <td>Rear-Wheel Drive</td>\n",
              "      <td>Special Purpose Vehicle 2WD</td>\n",
              "      <td>Regular</td>\n",
              "      <td>20.600625</td>\n",
              "      <td>16</td>\n",
              "      <td>17</td>\n",
              "      <td>16</td>\n",
              "      <td>555.437500</td>\n",
              "      <td>2100</td>\n",
              "    </tr>\n",
              "    <tr>\n",
              "      <th>3</th>\n",
              "      <td>AM General</td>\n",
              "      <td>Post Office DJ8 2WD</td>\n",
              "      <td>1985</td>\n",
              "      <td>4.2</td>\n",
              "      <td>6.0</td>\n",
              "      <td>Automatic 3-spd</td>\n",
              "      <td>Rear-Wheel Drive</td>\n",
              "      <td>Special Purpose Vehicle 2WD</td>\n",
              "      <td>Regular</td>\n",
              "      <td>25.354615</td>\n",
              "      <td>13</td>\n",
              "      <td>13</td>\n",
              "      <td>13</td>\n",
              "      <td>683.615385</td>\n",
              "      <td>2550</td>\n",
              "    </tr>\n",
              "    <tr>\n",
              "      <th>4</th>\n",
              "      <td>ASC Incorporated</td>\n",
              "      <td>GNX</td>\n",
              "      <td>1987</td>\n",
              "      <td>3.8</td>\n",
              "      <td>6.0</td>\n",
              "      <td>Automatic 4-spd</td>\n",
              "      <td>Rear-Wheel Drive</td>\n",
              "      <td>Midsize Cars</td>\n",
              "      <td>Premium</td>\n",
              "      <td>20.600625</td>\n",
              "      <td>14</td>\n",
              "      <td>21</td>\n",
              "      <td>16</td>\n",
              "      <td>555.437500</td>\n",
              "      <td>2550</td>\n",
              "    </tr>\n",
              "  </tbody>\n",
              "</table>\n",
              "</div>\n",
              "      <button class=\"colab-df-convert\" onclick=\"convertToInteractive('df-193394eb-2b4a-47ff-bca6-a469f36253ce')\"\n",
              "              title=\"Convert this dataframe to an interactive table.\"\n",
              "              style=\"display:none;\">\n",
              "        \n",
              "  <svg xmlns=\"http://www.w3.org/2000/svg\" height=\"24px\"viewBox=\"0 0 24 24\"\n",
              "       width=\"24px\">\n",
              "    <path d=\"M0 0h24v24H0V0z\" fill=\"none\"/>\n",
              "    <path d=\"M18.56 5.44l.94 2.06.94-2.06 2.06-.94-2.06-.94-.94-2.06-.94 2.06-2.06.94zm-11 1L8.5 8.5l.94-2.06 2.06-.94-2.06-.94L8.5 2.5l-.94 2.06-2.06.94zm10 10l.94 2.06.94-2.06 2.06-.94-2.06-.94-.94-2.06-.94 2.06-2.06.94z\"/><path d=\"M17.41 7.96l-1.37-1.37c-.4-.4-.92-.59-1.43-.59-.52 0-1.04.2-1.43.59L10.3 9.45l-7.72 7.72c-.78.78-.78 2.05 0 2.83L4 21.41c.39.39.9.59 1.41.59.51 0 1.02-.2 1.41-.59l7.78-7.78 2.81-2.81c.8-.78.8-2.07 0-2.86zM5.41 20L4 18.59l7.72-7.72 1.47 1.35L5.41 20z\"/>\n",
              "  </svg>\n",
              "      </button>\n",
              "      \n",
              "  <style>\n",
              "    .colab-df-container {\n",
              "      display:flex;\n",
              "      flex-wrap:wrap;\n",
              "      gap: 12px;\n",
              "    }\n",
              "\n",
              "    .colab-df-convert {\n",
              "      background-color: #E8F0FE;\n",
              "      border: none;\n",
              "      border-radius: 50%;\n",
              "      cursor: pointer;\n",
              "      display: none;\n",
              "      fill: #1967D2;\n",
              "      height: 32px;\n",
              "      padding: 0 0 0 0;\n",
              "      width: 32px;\n",
              "    }\n",
              "\n",
              "    .colab-df-convert:hover {\n",
              "      background-color: #E2EBFA;\n",
              "      box-shadow: 0px 1px 2px rgba(60, 64, 67, 0.3), 0px 1px 3px 1px rgba(60, 64, 67, 0.15);\n",
              "      fill: #174EA6;\n",
              "    }\n",
              "\n",
              "    [theme=dark] .colab-df-convert {\n",
              "      background-color: #3B4455;\n",
              "      fill: #D2E3FC;\n",
              "    }\n",
              "\n",
              "    [theme=dark] .colab-df-convert:hover {\n",
              "      background-color: #434B5C;\n",
              "      box-shadow: 0px 1px 3px 1px rgba(0, 0, 0, 0.15);\n",
              "      filter: drop-shadow(0px 1px 2px rgba(0, 0, 0, 0.3));\n",
              "      fill: #FFFFFF;\n",
              "    }\n",
              "  </style>\n",
              "\n",
              "      <script>\n",
              "        const buttonEl =\n",
              "          document.querySelector('#df-193394eb-2b4a-47ff-bca6-a469f36253ce button.colab-df-convert');\n",
              "        buttonEl.style.display =\n",
              "          google.colab.kernel.accessAllowed ? 'block' : 'none';\n",
              "\n",
              "        async function convertToInteractive(key) {\n",
              "          const element = document.querySelector('#df-193394eb-2b4a-47ff-bca6-a469f36253ce');\n",
              "          const dataTable =\n",
              "            await google.colab.kernel.invokeFunction('convertToInteractive',\n",
              "                                                     [key], {});\n",
              "          if (!dataTable) return;\n",
              "\n",
              "          const docLinkHtml = 'Like what you see? Visit the ' +\n",
              "            '<a target=\"_blank\" href=https://colab.research.google.com/notebooks/data_table.ipynb>data table notebook</a>'\n",
              "            + ' to learn more about interactive tables.';\n",
              "          element.innerHTML = '';\n",
              "          dataTable['output_type'] = 'display_data';\n",
              "          await google.colab.output.renderOutput(dataTable, element);\n",
              "          const docLink = document.createElement('div');\n",
              "          docLink.innerHTML = docLinkHtml;\n",
              "          element.appendChild(docLink);\n",
              "        }\n",
              "      </script>\n",
              "    </div>\n",
              "  </div>\n",
              "  "
            ]
          },
          "metadata": {},
          "execution_count": 213
        }
      ]
    },
    {
      "cell_type": "code",
      "source": [
        "df.info()"
      ],
      "metadata": {
        "id": "LutcGEx8v4GY",
        "colab": {
          "base_uri": "https://localhost:8080/"
        },
        "outputId": "f70d806f-b0e8-4031-cadc-a6729c452a74"
      },
      "execution_count": 214,
      "outputs": [
        {
          "output_type": "stream",
          "name": "stdout",
          "text": [
            "<class 'pandas.core.frame.DataFrame'>\n",
            "RangeIndex: 35952 entries, 0 to 35951\n",
            "Data columns (total 15 columns):\n",
            " #   Column                   Non-Null Count  Dtype  \n",
            "---  ------                   --------------  -----  \n",
            " 0   Make                     35952 non-null  object \n",
            " 1   Model                    35952 non-null  object \n",
            " 2   Year                     35952 non-null  int64  \n",
            " 3   Engine Displacement      35952 non-null  float64\n",
            " 4   Cylinders                35952 non-null  float64\n",
            " 5   Transmission             35952 non-null  object \n",
            " 6   Drivetrain               35952 non-null  object \n",
            " 7   Vehicle Class            35952 non-null  object \n",
            " 8   Fuel Type                35952 non-null  object \n",
            " 9   Fuel Barrels/Year        35952 non-null  float64\n",
            " 10  City MPG                 35952 non-null  int64  \n",
            " 11  Highway MPG              35952 non-null  int64  \n",
            " 12  Combined MPG             35952 non-null  int64  \n",
            " 13  CO2 Emission Grams/Mile  35952 non-null  float64\n",
            " 14  Fuel Cost/Year           35952 non-null  int64  \n",
            "dtypes: float64(4), int64(5), object(6)\n",
            "memory usage: 4.1+ MB\n"
          ]
        }
      ]
    },
    {
      "cell_type": "markdown",
      "source": [
        "##Q1. What is the average CO2 emmission per gram/mile of all Volkswagen cars?\n",
        "\n",
        "##### Format: A floating number\n",
        "##### Example answer:\n",
        " `11.547`"
      ],
      "metadata": {
        "id": "kLRp8K_wnEJG"
      }
    },
    {
      "cell_type": "code",
      "source": [
        "########## Q1\n",
        "#Your code here\n",
        "\n",
        "co_emiss = df.groupby(['Make'])['CO2 Emission Grams/Mile'].mean()\n",
        "co_emiss\n",
        "co_emiss[\"Volkswagen\"]\n",
        "answer_dict[\"Q2\"] = 392.74172108576107\n",
        "#Example answer:\n",
        "#answer_dict[\"Q1\"] =  11.547\n",
        "\n"
      ],
      "metadata": {
        "id": "jBGXf7RRnEoV"
      },
      "execution_count": 215,
      "outputs": []
    },
    {
      "cell_type": "markdown",
      "source": [
        "##Q2. Calculate the top 5 brands(Make) with the most unique models, order your answer in descending order with respect to the number of unique models.\n",
        "##### **NOTE:** Consider only the name of the models and their brand, that is use only the Make and Model columns\n",
        "##### Format: A 5X2 list with each row being the name of the brand followed by the unique number of models, in descending order.\n",
        "#####Hint: You can use the pandas [df.values.tolist()](https://pandas.pydata.org/docs/reference/api/pandas.Series.tolist.html) function to format your answer.\n",
        "\n",
        "##### Example answer: \n",
        "`[[\"Volkswagen\", 1000], [\"Toyota\", 900], [\"Honda\", 800], [\"Subaru\", 700], [\"Ford\", 600]]`"
      ],
      "metadata": {
        "id": "SPNq7yn74kjd"
      }
    },
    {
      "cell_type": "code",
      "source": [
        "########## Q2\n",
        "#Your code here\n",
        "top_brands = df.groupby(['Make'])['Model'].count()\n",
        "top_brands = top_brands.sort_values(ascending = False).head(5)\n",
        "top_brands\n",
        "answer_dict[\"Q2\"] = [[\"Chevrolet\",3643], [\"Ford\",2946], [\"Dodge\",2360], [\"GMC\",2347], [\"Toyota\",1836]] \n",
        "#Example answer:\n",
        "#answer_dict[\"Q2\"] =  [[\"Volkswagen\", 1000], [\"Toyota\", 900], [\"Honda\", 800], [\"Subaru\", 700], [\"Ford\", 600]] \n"
      ],
      "metadata": {
        "id": "StipyFue4Dx-"
      },
      "execution_count": 216,
      "outputs": []
    },
    {
      "cell_type": "code",
      "source": [
        ""
      ],
      "metadata": {
        "id": "qS_laZ8i4ufe"
      },
      "execution_count": 216,
      "outputs": []
    },
    {
      "cell_type": "markdown",
      "source": [
        "##Q3. What are all the different types of fuels in the dataset sorted alphabetically?\n",
        "##### Format: A list of strings sorted alphabetically.\n",
        "##### Example Answer: \n",
        "`['Regular',\n",
        " 'Premium']`"
      ],
      "metadata": {
        "id": "EGxv7N15AiLu"
      }
    },
    {
      "cell_type": "code",
      "source": [
        "########## Q3\n",
        "#Your code here\n",
        "diff_fuel = df['Fuel Type'].unique()\n",
        "diff_fuel = diff_fuel.tolist()\n",
        "diff_fuel\n",
        "answer_dict[\"Q3\"] = diff_fuel\n",
        "#Example answer:\n",
        "#answer_dict[\"Q3\"] =  ['Regular', 'Premium'] \n"
      ],
      "metadata": {
        "id": "otyDsWpsAjde"
      },
      "execution_count": 217,
      "outputs": []
    },
    {
      "cell_type": "markdown",
      "source": [
        "##Q4. Show the 9 Toyota cars with the most extreme Fuel Barrels/Year in abosolute terms within all Toyota cars. Show the car Model, Year and their Fuel Barrels/Year in standard deviation units **sorted** in descending order by their Fuel Barrels/Year in absolute terms first and then by year in descending order **BUT** without modifying the negative values (see example).\n",
        "\n",
        "##### Format: A 9X3 list with each row containing the Model, Year and Fuel Barrels/Year in standard deviations units\n",
        "\n",
        "##### Example answer: \n",
        "```\n",
        "[['DJ Po Vehicle 2WD', 2004, -6.407431084026927],\n",
        " ['FJ8c Post Office', 2003, -6.407431084026927],\n",
        " ['Post Office DJ5 2WD', 2005, -6.391684618442447],\n",
        " ['Sierra 2500 Hd 2WD', 2002, -6.391684618442447],\n",
        " ['Camry CNG', 2012, 2.677633075759575],\n",
        " ['Sierra 1500 4WD', 2005, 2.677633075759575],\n",
        " ['Sierra 1500 4WD', 2001, 2.677633075759575],\n",
        " ['V15 Suburban 4WD', 1988, 2.677633075759575],\n",
        " ['V15 Suburban 4WD', 1987, 2.677633075759575]]\n",
        "```\n",
        "#####Note that while the list is sorted by the Fuel Barrels/Year in absolute terms and in standard deviation units, the values are not modified. If the values are the same the rows are sorted by the year.\n"
      ],
      "metadata": {
        "id": "ijpZht03tV5W"
      }
    },
    {
      "cell_type": "code",
      "source": [
        "########## Q4\n",
        "#Your code here\n",
        "new_group = df[['Model', 'Year', 'Fuel Barrels/Year']]\n",
        "new_group = new_group[df.Make=='Toyota'].sort_values(by = ['Fuel Barrels/Year'], ascending=False).head(9)\n",
        "toyota_list = new_group.values.tolist()\n",
        "toyota_list\n",
        "answer_dict[\"Q4\"] = toyota_list\n",
        "answer_dict[\"Q4\"]"
      ],
      "metadata": {
        "id": "de_GgmrFVcvO",
        "colab": {
          "base_uri": "https://localhost:8080/"
        },
        "outputId": "3762b69f-a3b9-4bf7-efeb-dff844d6bfe4"
      },
      "execution_count": 218,
      "outputs": [
        {
          "output_type": "execute_result",
          "data": {
            "text/plain": [
              "[['Cab/Chassis 2WD', 1992, 32.961],\n",
              " ['Cab/Chassis 2WD', 1989, 32.961],\n",
              " ['Cab/Chassis 2WD', 1993, 32.961],\n",
              " ['Cab/Chassis 2WD', 1990, 32.961],\n",
              " ['Cab/Chassis 2WD', 1991, 32.961],\n",
              " ['Land Cruiser Wagon 4WD', 1984, 29.96454545454546],\n",
              " ['Land Cruiser Wagon 4WD', 1985, 29.96454545454546],\n",
              " ['Land Cruiser Wagon 4WD', 1986, 29.96454545454546],\n",
              " ['Land Cruiser Wagon 4WD', 1987, 29.96454545454546]]"
            ]
          },
          "metadata": {},
          "execution_count": 218
        }
      ]
    },
    {
      "cell_type": "markdown",
      "source": [
        "##Q5. Calculate the changes in Combined MPG with their previous model of all Golf cars with Manual 5-spd transmission and Regular Fuel Type. Show the Year, the Combined MPG and the calculated difference of MPG in a list sorted by Year in ascending order.\n",
        "\n",
        "##### Format: A 19X3 list, with the Year and Combined MPG being of type integer **and only the calculated difference is of type float**\n",
        "##### **Note: The value for the first model should be 0.** It does not matter that there are gaps in the years, calculate with respect the previous model.\n",
        "\n",
        "#####Example answer:\n",
        "\n",
        "\n",
        "\n",
        "```\n",
        "[[1986, 25, 0.0],\n",
        " [1987, 25, 0.0],\n",
        " [1988, 25, 0.0],\n",
        " [1989, 25, 0.0],\n",
        " [1990, 23, -2.0],\n",
        " [1991, 23, 0.0],\n",
        " [1992, 24, 1.0],\n",
        " [1993, 25, 1.0],\n",
        " [1994, 25, 0.0],\n",
        " [1995, 25, 0.0],\n",
        " [1996, 25, 0.0],\n",
        " [1997, 25, 0.0],\n",
        " [1998, 24, -1.0],\n",
        " [1999, 25, 1.0],\n",
        " [2000, 24, -1.0],\n",
        " [2001, 24, 0.0],\n",
        " [2002, 24, 0.0],\n",
        " [2004, 24, 0.0],\n",
        " [2006, 24, 0.0]]\n",
        "```\n",
        "\n",
        "\n",
        "\n"
      ],
      "metadata": {
        "id": "7eCpEljJnXzt"
      }
    },
    {
      "cell_type": "code",
      "source": [
        "########## Q5\n",
        "#Your code here\n",
        "\n",
        "df.columns = [c.replace(' ', '_') for c in df.columns]\n",
        "df['MPG_diff'] = df['Combined_MPG'].diff() \n",
        "#####################\n",
        "diff_comb_MPG = df[['Year', 'Combined_MPG']]\n",
        "diff_comb_MPG = diff_comb_MPG[df.Make=='Volkswagen'][df.Model=='Golf'][df.Transmission=='Manual 5-spd'][df. Fuel_Type == 'Regular'].sort_values(by = ['Year'], ascending=True)\n",
        "#####################\n",
        "diff_comb_MPG_list = diff_comb_MPG.values.tolist()\n",
        "diff_MPG = df['MPG_diff'][df.Make=='Volkswagen'][df.Model=='Golf'][df.Transmission=='Manual 5-spd'][df. Fuel_Type == 'Regular']\n",
        "#####################\n",
        "diff_MPG_list = diff_MPG.values.tolist()\n",
        "diff_MPG_list.reverse()\n",
        "#####################\n",
        "x = 0\n",
        "for i in diff_comb_MPG_list:\n",
        "  i.append(diff_MPG_list[x])\n",
        "  x += 1\n",
        "#####################\n",
        "diff_comb_MPG_list\n",
        "answer_dict[\"Q5\"] = [[1986, 26, 0.0],\n",
        " [1987, 26, 1.0],\n",
        " [1988, 25, 4.0],\n",
        " [1989, 25, 0.0],\n",
        " [1999, 24, 0.0],\n",
        " [2000, 24, -1.0],\n",
        " [2001, 24, 1.0],\n",
        " [2002, 24, 0.0],\n",
        " [2003, 24, 0.0],\n",
        " [2004, 24, 0.0],\n",
        " [2005, 24, 1.0],\n",
        " [2006, 24, 1.0],\n",
        " [2010, 25, 2.0],\n",
        " [2011, 26, 2.0],\n",
        " [2012, 26, 2.0],\n",
        " [2013, 26, 3.0],\n",
        " [2015, 30, 2.0],\n",
        " [2016, 30, 4.0],\n",
        " [2017, 29, 4.0]]\n"
      ],
      "metadata": {
        "id": "lMlKfEWUH3S9",
        "colab": {
          "base_uri": "https://localhost:8080/"
        },
        "outputId": "3baca067-798b-4bd9-bf6b-82b491e5da83"
      },
      "execution_count": 219,
      "outputs": [
        {
          "output_type": "stream",
          "name": "stderr",
          "text": [
            "/usr/local/lib/python3.7/dist-packages/ipykernel_launcher.py:8: UserWarning: Boolean Series key will be reindexed to match DataFrame index.\n",
            "  \n"
          ]
        }
      ]
    },
    {
      "cell_type": "markdown",
      "source": [
        "##Q6. What are the top 5 lowest CO2 Emission Grams/Mile emmisions of cars for each of the following brands: Toyota, Ford, Volkswagen, Nissan, Honda\n",
        "\n",
        "#####Format: A 5X6 list with the first element of each row being the Make of the cars and the following five values being floats sorted in ascending order. The Makes should appear in order listed in the question starting with Ford and ending with Volkswagen (see example).\n",
        "\n",
        "#####Example answer:\n",
        "\n",
        "```\n",
        "[['Toyota', 100.0, 140.0, 140.0, 150.0, 150.0],\n",
        " ['Ford',\n",
        "  100.025641025641,\n",
        "  200.677633075759575,\n",
        "  200.677633075759575,\n",
        "  200.677633075759575,\n",
        "  200.677633075759575],\n",
        " ['Volkswagen', 139.0, 154.0, 166.5, 166.5, 166.5],\n",
        " ['Nissan', 122.0, 122.0, 122.0, 122.0, 160.0],\n",
        " ['Honda', 100.0, 100.0, 100.0, 100.0, 123.91684618442447]]\n",
        "```\n",
        "\n",
        "\n",
        "\n",
        "\n"
      ],
      "metadata": {
        "id": "EnHdqUs-nagE"
      }
    },
    {
      "cell_type": "code",
      "source": [
        "########## Q6\n",
        "#Your code here \n",
        "df1 = df[['Make', 'CO2_Emission_Grams/Mile']]\n",
        "df1 = df1.loc[((df['Make'] == 'Toyota') | (df['Make'] == 'Ford') | (df['Make'] == 'Volkswagen') | (df['Make'] == 'Nissan') | (df['Make'] == 'Honda'))]\n",
        "df2 = df1.reset_index(drop = True).groupby(['Make'])['CO2_Emission_Grams/Mile'].nsmallest(5)\n",
        "df2 = df2.tolist()\n",
        "########\n",
        "toyotas = df2[0:5]\n",
        "toyotas.insert(0, 'Toyota')\n",
        "#########\n",
        "fords = df2[5: 10]\n",
        "fords.insert(0, 'Ford')\n",
        "##########\n",
        "volkswagens = df2[10: 15]\n",
        "volkswagens.insert(0, 'Volkswagen')\n",
        "###########\n",
        "nissans = df2[15: 20]\n",
        "nissans.insert(0, 'Nissan')\n",
        "############\n",
        "hondas = df2[20: 25]\n",
        "hondas.insert(0, 'Honda')\n",
        "###########\n",
        "lowest_CO =[]\n",
        "def x(car):\n",
        "  lowest_CO.append(car)\n",
        "  return lowest_CO\n",
        "x(toyotas)\n",
        "x(fords)\n",
        "x(volkswagens)\n",
        "x(nissans)\n",
        "x(hondas)\n",
        "\n",
        "lowest_CO\n",
        "answer_dict[\"Q6\"] = lowest_CO\n",
        "answer_dict[\"Q6\"] "
      ],
      "metadata": {
        "id": "8KKg3bT6na41",
        "colab": {
          "base_uri": "https://localhost:8080/"
        },
        "outputId": "9a8d573c-0cca-4d30-d3fb-c8494d7c7f6a"
      },
      "execution_count": 220,
      "outputs": [
        {
          "output_type": "execute_result",
          "data": {
            "text/plain": [
              "[['Toyota', 112.0, 129.0, 129.0, 129.0, 129.0],\n",
              " ['Ford',\n",
              "  130.0,\n",
              "  167.67924528301887,\n",
              "  167.67924528301887,\n",
              "  167.67924528301887,\n",
              "  167.67924528301887],\n",
              " ['Volkswagen', 249.0, 254.0, 254.5, 254.5, 254.5],\n",
              " ['Nissan', 133.0, 133.0, 133.0, 133.0, 158.0],\n",
              " ['Honda', 200.0, 200.0, 200.0, 200.0, 261.025641025641]]"
            ]
          },
          "metadata": {},
          "execution_count": 220
        }
      ]
    },
    {
      "cell_type": "markdown",
      "source": [
        "##Q7. Form 7 groups of 5 years to calculated the median Combined MPG of each group. The first group is from 1984 to 1988, the second from 1989 to 1993 and so on. The last group will have years not appearing in the dataset.\n",
        "\n",
        "#####Note: The groups ranges are inclusive on both sides, the first group starts with 1984 and cars from 1984 are included in it.\n",
        "#####Format : A 7X2 list with the first element of each row being a tuple of two integers being the lower and uppper range of the year groups and the esecond element being the median Combined MPG of that group, a float number.\n",
        "\n",
        "#####Example answer:\n",
        "\n",
        "\n",
        "```\n",
        "[[(1984, 1988), 11.0],\n",
        " [(1989, 1993), 10.0],\n",
        " [(1994, 1998), 10.0],\n",
        " [(1999, 2003), 14.0],\n",
        " [(2004, 2008), 13.0],\n",
        " [(2009, 2013), 14.0],\n",
        " [(2014, 2018), 15.0]]\n",
        "```\n",
        "\n"
      ],
      "metadata": {
        "id": "gDNo1Fcesgk5"
      }
    },
    {
      "cell_type": "code",
      "source": [
        "########## Q7\n",
        "#Your code here\n",
        "df1 = df[['Year', 'Combined_MPG']]\n",
        "df2 = df1['Year'].unique()\n",
        "years = df2.tolist()\n",
        "\n",
        "###### getting mean values ##############\n",
        "class group_mean:\n",
        "  def __init__(self):\n",
        "      self\n",
        "  def get_mean(self, x, y):\n",
        "    self = df1.groupby(['Year'])['Combined_MPG'].mean()\n",
        "    self = self[x:y]\n",
        "    self = self.round(decimals = 1).mean()\n",
        "    return self\n",
        "\n",
        "mean1 = group_mean()\n",
        "mean1 = mean1.get_mean(0, 5)\n",
        "\n",
        "mean2 = group_mean()\n",
        "mean2 = mean2.get_mean(5, 10)\n",
        "\n",
        "mean3 = group_mean()\n",
        "mean3 = mean3.get_mean(10, 15)\n",
        "\n",
        "mean4 = group_mean()\n",
        "mean4 = mean4.get_mean(15, 20)\n",
        "\n",
        "mean5 = group_mean()\n",
        "mean5 = mean5.get_mean(20, 25)\n",
        "\n",
        "mean6 = group_mean()\n",
        "mean6 = mean6.get_mean(25, 30)\n",
        "\n",
        "mean7 = group_mean()\n",
        "mean7 = mean7.get_mean(30, 35)\n",
        "\n",
        "###### getting groups ###################\n",
        "class group:\n",
        "  def __init__(self):\n",
        "    self \n",
        "  def grouping(self, x, y):\n",
        "    return tuple(years[x:y])\n",
        "\n",
        "def pairing(x):\n",
        "    a = x[0] \n",
        "    b = x[-1]\n",
        "    c = [a, b]\n",
        "    c = tuple(c)\n",
        "    return c\n",
        " \n",
        "g1 = group()\n",
        "g1 = g1.grouping(0, 5)\n",
        "\n",
        "g2 = group()\n",
        "g2 = g2.grouping(5, 10)\n",
        "\n",
        "g3 = group()\n",
        "g3 = g3.grouping(10, 15)\n",
        "\n",
        "g4 = group()\n",
        "g4 = g4.grouping(15, 20)\n",
        "\n",
        "g5 = group()\n",
        "g5 = g5.grouping(20, 25)\n",
        "\n",
        "g6 = group()\n",
        "g6 = g6.grouping(25, 30)\n",
        "\n",
        "g7 = group()\n",
        "g7 = g7.grouping(30, 36)\n",
        "\n",
        "g7lst = list(g7)\n",
        "g7lst.insert(4, 2013)\n",
        "g7 = tuple(g7lst)\n",
        "\n",
        "###### final groups ###########\n",
        "group1 = [pairing(g1), mean1]\n",
        "group2 = [pairing(g2), mean2]\n",
        "group3 = [pairing(g3), mean3]\n",
        "group4 = [pairing(g4), mean4]\n",
        "group5 = [pairing(g5), mean5]\n",
        "group6 = [pairing(g6), mean6]\n",
        "group7 = [pairing(g7), mean7]\n",
        "\n",
        "###### final answer ###########\n",
        "mean_MPG_year =[group1, group2, group3, group4, group5, group6, group7]\n",
        "mean_MPG_year\n",
        "answer_dict[\"Q7\"] = mean_MPG_year\n",
        "answer_dict[\"Q7\"]\n",
        "\n"
      ],
      "metadata": {
        "id": "1cMEyFXVxBU3",
        "colab": {
          "base_uri": "https://localhost:8080/"
        },
        "outputId": "74257137-0ed9-4e07-a1c4-1c184a06d374"
      },
      "execution_count": 221,
      "outputs": [
        {
          "output_type": "execute_result",
          "data": {
            "text/plain": [
              "[[(1984, 1998), 18.96],\n",
              " [(1999, 2002), 18.98],\n",
              " [(2003, 2014), 19.24],\n",
              " [(2015, 1988), 19.18],\n",
              " [(1989, 1993), 19.08],\n",
              " [(1994, 2008), 20.999999999999996],\n",
              " [(2009, 2013), 23.049999999999997]]"
            ]
          },
          "metadata": {},
          "execution_count": 221
        }
      ]
    },
    {
      "cell_type": "markdown",
      "source": [
        "##Test your answers\n",
        "\n",
        "##### We provide you some tests to make sure your answer dictionary is in the correct format using unittest.\n",
        "##### These tests are not meant to be comprehensive, you should review all your answers carefully."
      ],
      "metadata": {
        "id": "LiGydnlQ4cX4"
      }
    },
    {
      "cell_type": "code",
      "source": [
        "import unittest\n",
        "\n",
        "class TestAnswers(unittest.TestCase):\n",
        "    def test_if_dict(self):\n",
        "        self.assertIsInstance(answer_dict, dict)\n",
        "\n",
        "    def test_keys(self):\n",
        "        self.assertEqual(list(answer_dict.keys()), ['Q1', 'Q2', 'Q3', 'Q4', 'Q5', 'Q6', 'Q7'])\n",
        "\n",
        "    def test_answers_types(self):\n",
        "        types_values = [type(k) for k in answer_dict.values()]\n",
        "        answer_types = [float, list, list, list, list, list, list]\n",
        "        self.assertEqual(types_values, answer_types)\n",
        "\n",
        "    def test_Q1(self):\n",
        "        self.assertEqual(type(answer_dict['Q1']), float)\n",
        "\n",
        "    def test_Q2_dim(self):\n",
        "        self.assertEqual(np.array(answer_dict['Q2']).shape, (5,2))\n",
        "\n",
        "    def test_Q2_types(self):\n",
        "        dtype1 = type(answer_dict['Q2'][0][0])\n",
        "        dtype2 = type(answer_dict['Q2'][0][1])\n",
        "        self.assertEqual([dtype1, dtype2], [str, int])\n",
        "\n",
        "    def test_Q3_types(self):\n",
        "        q3_types = set([type(item) for item in answer_dict['Q3']])\n",
        "        self.assertEqual(q3_types, {str})\n",
        "\n",
        "    def test_Q4_dim(self):\n",
        "        self.assertEqual(np.array(answer_dict['Q4']).shape, (9,3))\n",
        "\n",
        "    def test_Q4_types(self):\n",
        "        dtype1 = type(answer_dict['Q4'][0][0])\n",
        "        dtype2 = type(answer_dict['Q4'][0][1])\n",
        "        dtype3 = type(answer_dict['Q4'][0][2])\n",
        "        self.assertEqual([dtype1, dtype2, dtype3], [str, int, float])\n",
        "\n",
        "    def test_Q5_dim(self):\n",
        "        self.assertEqual(np.array(answer_dict['Q5']).shape, (19,3))\n",
        "\n",
        "    def test_Q5_types(self):\n",
        "        dtype1 = type(answer_dict['Q5'][0][0])\n",
        "        dtype2 = type(answer_dict['Q5'][0][1])\n",
        "        dtype3 = type(answer_dict['Q5'][0][2])\n",
        "        self.assertEqual([dtype1, dtype2, dtype3], [int, int, float])\n",
        "\n",
        "    def test_Q5_first_zero(self):\n",
        "        self.assertEqual(answer_dict['Q5'][0][2], 0)\n",
        "\n",
        "\n",
        "    def test_Q6_dim(self):\n",
        "        self.assertEqual(np.array(answer_dict['Q6']).shape, (5,6))\n",
        "\n",
        "    def test_Q5_types(self):\n",
        "        dtype1 = type(answer_dict['Q6'][0][0])\n",
        "        dtype2 = type(answer_dict['Q6'][0][1])\n",
        "        dtype3 = type(answer_dict['Q6'][0][2])\n",
        "        dtype4 = type(answer_dict['Q6'][0][3])\n",
        "        dtype5 = type(answer_dict['Q6'][0][4])\n",
        "        dtype6 = type(answer_dict['Q6'][0][5])\n",
        "        self.assertEqual([dtype1, dtype2, dtype3, dtype4, dtype5, dtype6], [str, float, float, float, float, float])\n",
        "\n",
        "    def test_Q6_check_first_and_last_brand(self):\n",
        "        first_brand = answer_dict['Q6'][0][0]\n",
        "        last_brand = answer_dict['Q6'][4][0]\n",
        "\n",
        "        self.assertEqual([first_brand, last_brand], [\"Toyota\", \"Honda\"])\n",
        "\n",
        "    def test_Q7_dim(self):\n",
        "        self.assertEqual(np.array(answer_dict['Q7'], dtype=object).shape, (7,2))\n",
        "\n",
        "    def test_Q7_types(self):\n",
        "        dtype1 = type(answer_dict['Q7'][0][0])\n",
        "        dtype2 = type(answer_dict['Q7'][0][1])\n",
        "        self.assertEqual([dtype1, dtype2], [tuple, float])\n",
        "\n",
        "unittest.main(argv=[''], verbosity=2, exit=False)"
      ],
      "metadata": {
        "id": "iNwVFmHZ4csn",
        "colab": {
          "base_uri": "https://localhost:8080/"
        },
        "outputId": "478f1a33-4e77-4c3c-9a53-7496d64905cc"
      },
      "execution_count": 222,
      "outputs": [
        {
          "output_type": "stream",
          "name": "stderr",
          "text": [
            "test_Q1 (__main__.TestAnswers) ... ok\n",
            "test_Q2_dim (__main__.TestAnswers) ... ok\n",
            "test_Q2_types (__main__.TestAnswers) ... ok\n",
            "test_Q3_types (__main__.TestAnswers) ... ok\n",
            "test_Q4_dim (__main__.TestAnswers) ... ok\n",
            "test_Q4_types (__main__.TestAnswers) ... ok\n",
            "test_Q5_dim (__main__.TestAnswers) ... ok\n",
            "test_Q5_first_zero (__main__.TestAnswers) ... ok\n",
            "test_Q5_types (__main__.TestAnswers) ... ok\n",
            "test_Q6_check_first_and_last_brand (__main__.TestAnswers) ... ok\n",
            "test_Q6_dim (__main__.TestAnswers) ... ok\n",
            "test_Q7_dim (__main__.TestAnswers) ... ok\n",
            "test_Q7_types (__main__.TestAnswers) ... ok\n",
            "test_answers_types (__main__.TestAnswers) ... ok\n",
            "test_if_dict (__main__.TestAnswers) ... ok\n",
            "test_keys (__main__.TestAnswers) ... ok\n",
            "\n",
            "----------------------------------------------------------------------\n",
            "Ran 16 tests in 0.029s\n",
            "\n",
            "OK\n"
          ]
        },
        {
          "output_type": "execute_result",
          "data": {
            "text/plain": [
              "<unittest.main.TestProgram at 0x7f52afb0ee50>"
            ]
          },
          "metadata": {},
          "execution_count": 222
        }
      ]
    },
    {
      "cell_type": "markdown",
      "source": [
        "##Save your answers\n",
        "\n",
        "\n",
        "##### First, take a moment to evaluate your answers and make sure you have not missed anything\n",
        "\n",
        "##### Use the following code to save your answers in pickle format, change the filename using the following format:\n",
        "##### FIRSTNAME_LASTNAME_answers.pkl\n",
        "##### Example: Juan_Perez_answers.pkl\n",
        "\n",
        "##### If you are using google colab you can find your file on the left side bar by clicking the folder icon inside the sample_data folder. Remember to upload the pickle file and the notebook to github and submit their URLs to the [google form](https://forms.gle/wWysZEMkoZsjB11Y7)."
      ],
      "metadata": {
        "id": "O_Wx_D0kGjmc"
      }
    },
    {
      "cell_type": "code",
      "source": [
        "answer_dict"
      ],
      "metadata": {
        "id": "nCzU1sKMknfH",
        "colab": {
          "base_uri": "https://localhost:8080/"
        },
        "outputId": "83db8402-4f06-4a56-f515-a9c9b9c32031"
      },
      "execution_count": 223,
      "outputs": [
        {
          "output_type": "execute_result",
          "data": {
            "text/plain": [
              "{'Q1': 392.74172108576107,\n",
              " 'Q2': [['Chevrolet', 3643],\n",
              "  ['Ford', 2946],\n",
              "  ['Dodge', 2360],\n",
              "  ['GMC', 2347],\n",
              "  ['Toyota', 1836]],\n",
              " 'Q3': ['Regular',\n",
              "  'Premium',\n",
              "  'Diesel',\n",
              "  'Premium and Electricity',\n",
              "  'Premium or E85',\n",
              "  'Premium Gas or Electricity',\n",
              "  'Gasoline or E85',\n",
              "  'Gasoline or natural gas',\n",
              "  'CNG',\n",
              "  'Regular Gas or Electricity',\n",
              "  'Midgrade',\n",
              "  'Regular Gas and Electricity',\n",
              "  'Gasoline or propane'],\n",
              " 'Q4': [['Cab/Chassis 2WD', 1992, 32.961],\n",
              "  ['Cab/Chassis 2WD', 1989, 32.961],\n",
              "  ['Cab/Chassis 2WD', 1993, 32.961],\n",
              "  ['Cab/Chassis 2WD', 1990, 32.961],\n",
              "  ['Cab/Chassis 2WD', 1991, 32.961],\n",
              "  ['Land Cruiser Wagon 4WD', 1984, 29.96454545454546],\n",
              "  ['Land Cruiser Wagon 4WD', 1985, 29.96454545454546],\n",
              "  ['Land Cruiser Wagon 4WD', 1986, 29.96454545454546],\n",
              "  ['Land Cruiser Wagon 4WD', 1987, 29.96454545454546]],\n",
              " 'Q5': [[1986, 26, 0.0],\n",
              "  [1987, 26, 1.0],\n",
              "  [1988, 25, 4.0],\n",
              "  [1989, 25, 0.0],\n",
              "  [1999, 24, 0.0],\n",
              "  [2000, 24, -1.0],\n",
              "  [2001, 24, 1.0],\n",
              "  [2002, 24, 0.0],\n",
              "  [2003, 24, 0.0],\n",
              "  [2004, 24, 0.0],\n",
              "  [2005, 24, 1.0],\n",
              "  [2006, 24, 1.0],\n",
              "  [2010, 25, 2.0],\n",
              "  [2011, 26, 2.0],\n",
              "  [2012, 26, 2.0],\n",
              "  [2013, 26, 3.0],\n",
              "  [2015, 30, 2.0],\n",
              "  [2016, 30, 4.0],\n",
              "  [2017, 29, 4.0]],\n",
              " 'Q6': [['Toyota', 112.0, 129.0, 129.0, 129.0, 129.0],\n",
              "  ['Ford',\n",
              "   130.0,\n",
              "   167.67924528301887,\n",
              "   167.67924528301887,\n",
              "   167.67924528301887,\n",
              "   167.67924528301887],\n",
              "  ['Volkswagen', 249.0, 254.0, 254.5, 254.5, 254.5],\n",
              "  ['Nissan', 133.0, 133.0, 133.0, 133.0, 158.0],\n",
              "  ['Honda', 200.0, 200.0, 200.0, 200.0, 261.025641025641]],\n",
              " 'Q7': [[(1984, 1998), 18.96],\n",
              "  [(1999, 2002), 18.98],\n",
              "  [(2003, 2014), 19.24],\n",
              "  [(2015, 1988), 19.18],\n",
              "  [(1989, 1993), 19.08],\n",
              "  [(1994, 2008), 20.999999999999996],\n",
              "  [(2009, 2013), 23.049999999999997]]}"
            ]
          },
          "metadata": {},
          "execution_count": 223
        }
      ]
    },
    {
      "cell_type": "code",
      "source": [
        "import pickle\n",
        "\n",
        "file_name = \"Julio_Cristancho_answers.pkl\"\n",
        "path = \"\"\n",
        "\n",
        "with open(path+file_name, 'wb') as f:\n",
        "    pickle.dump(answer_dict, f, protocol=pickle.HIGHEST_PROTOCOL)"
      ],
      "metadata": {
        "id": "dEZ-vo0QGTeu"
      },
      "execution_count": 225,
      "outputs": []
    },
    {
      "cell_type": "code",
      "source": [
        ""
      ],
      "metadata": {
        "id": "Tt8xMVdgb5b6"
      },
      "execution_count": null,
      "outputs": []
    }
  ]
}